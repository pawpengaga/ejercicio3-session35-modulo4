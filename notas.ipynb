{
 "cells": [
  {
   "cell_type": "markdown",
   "metadata": {},
   "source": [
    "## Interfaces"
   ]
  },
  {
   "cell_type": "markdown",
   "metadata": {},
   "source": [
    "Las interfaces **crean estándares** alderedor de las cosas que nuestras clases pueden hacer\n",
    "\n",
    "Una interfaz `Volable` es para objetos que pueden volar. En los metodos declaramos todas las acciones quede hacer *algo que puede volar*"
   ]
  },
  {
   "cell_type": "code",
   "execution_count": null,
   "metadata": {
    "vscode": {
     "languageId": "java"
    }
   },
   "outputs": [],
   "source": [
    "package interfaces;\n",
    "\n",
    "public interface Volable {\n",
    "\n",
    "  public void elevarse();\n",
    "  public void aterrizar();\n",
    "\n",
    "}\n"
   ]
  },
  {
   "cell_type": "markdown",
   "metadata": {},
   "source": [
    "`Implements` significa que podemos implementar la interfaz `Volable`, si implementamos una interfaz, debemos usar **TODOS** sus metodos\n",
    "\n",
    "Es una forma de `polimorfismo`, un pilar de la programación orientada a objetos. Esto significa que conseguimos que *un mismo metodo se comporte de diferentes maneras* dependiendo el contexto"
   ]
  },
  {
   "cell_type": "code",
   "execution_count": null,
   "metadata": {
    "vscode": {
     "languageId": "java"
    }
   },
   "outputs": [],
   "source": [
    "package modelo;\n",
    "\n",
    "import interfaces.Volable;\n",
    "\n",
    "public class Avion implements Volable {\n",
    "\n",
    "  @Override\n",
    "  public void elevarse() {\n",
    "    System.out.println(\"El avion se eleva!\");\n",
    "  }\n",
    "\n",
    "  @Override\n",
    "  public void aterrizar() {\n",
    "    System.out.println(\"El avion aterriza...\");\n",
    "  }\n",
    "\n",
    "}"
   ]
  },
  {
   "cell_type": "markdown",
   "metadata": {},
   "source": [
    "> Esto da orden, claridad, y nos hace escribir menos codigo"
   ]
  },
  {
   "cell_type": "markdown",
   "metadata": {},
   "source": [
    "#### En ambas clases, el mismo metodo hace distintas cosas:"
   ]
  },
  {
   "cell_type": "code",
   "execution_count": null,
   "metadata": {
    "vscode": {
     "languageId": "java"
    }
   },
   "outputs": [],
   "source": [
    "package modelo;\n",
    "\n",
    "import interfaces.Volable;\n",
    "\n",
    "public class Parapente implements Volable {\n",
    "\n",
    "  @Override\n",
    "  public void elevarse() {\n",
    "    System.out.println(\"El parapente se eleva!\");\n",
    "  }\n",
    "\n",
    "  @Override\n",
    "  public void aterrizar() {\n",
    "    System.out.println(\"El parapente aterriza...\");\n",
    "  }\n",
    "\n",
    "}\n"
   ]
  },
  {
   "cell_type": "code",
   "execution_count": 8,
   "metadata": {
    "vscode": {
     "languageId": "java"
    }
   },
   "outputs": [
    {
     "name": "stdout",
     "output_type": "stream",
     "text": [
      "El avion se eleva!\n",
      "El parapente se eleva!\n"
     ]
    },
    {
     "name": "stdout",
     "output_type": "stream",
     "text": [
      "El avion aterriza...\n",
      "El parapente aterriza...\n"
     ]
    }
   ],
   "source": [
    "Avion avion = new Avion();\n",
    "Parapente parapente = new Parapente();\n",
    "\n",
    "avion.elevarse();\n",
    "parapente.elevarse();\n",
    "\n",
    "avion.aterrizar();\n",
    "parapente.aterrizar();"
   ]
  }
 ],
 "metadata": {
  "kernelspec": {
   "display_name": "Java",
   "language": "java",
   "name": "java"
  },
  "language_info": {
   "codemirror_mode": "java",
   "file_extension": ".jshell",
   "mimetype": "text/x-java-source",
   "name": "Java",
   "pygments_lexer": "java",
   "version": "17.0.10+11-LTS-240"
  }
 },
 "nbformat": 4,
 "nbformat_minor": 2
}
